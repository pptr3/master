{
 "cells": [
  {
   "cell_type": "markdown",
   "metadata": {},
   "source": [
    "# Situation Calculus"
   ]
  },
  {
   "cell_type": "markdown",
   "metadata": {},
   "source": [
    "It is used when we have a non static domain and we need to represent actions and states that lead to a solution. The approach of Situation Calculus is to use the concept of situations to denote states resulting from executing actions."
   ]
  },
  {
   "cell_type": "markdown",
   "metadata": {},
   "source": [
    "**Exercise 3** <br>\n",
    "A little cleaning robot moves in a room represented by the following map, having nine places encoded with coordinates x and y (eg. (1,1), (1,2).......). <br>\n",
    "\n",
    "A cat and a dog are also in the room in a position different from the robot. Assume that both the cat\n",
    "and the dog are still and do not move. The robot should clean the room (e.g visit all the free\n",
    "squares) avoiding the cat and the dog. <br>\n",
    "\n",
    "    1) Select a knowledge representation language to represent this scenario, and motivate your choice.\n",
    "    2) Write a KB to represents the robot, the room and the constraints. Define the robot task.\n",
    "    3) Write a query that activates the robot to perform the requested task."
   ]
  },
  {
   "cell_type": "markdown",
   "metadata": {},
   "source": [
    "**Solution** <br>\n",
    "\n",
    "1) I use Situation Calculus as it is used when we have a non static domain and we need to represent actions and states that lead to a solution. The approach of Situation Calculus is to use the concept of situations to denote states resulting from executing actions. <br>\n",
    "\n",
    "2) \n",
    "   **Fluents**: \n",
    "   - At(agent,cl,place,s) # cl represents the list of cells to be cleaned.\n",
    "\n",
    "   **Atemporal predicates**:\n",
    "   -  At(dog,place), At(cat,place), Free(X), Adjacent([1,1],[1,2]), Adjacent([1,1],[2,1]), ...\n",
    "   \n",
    "   **Actions**:\n",
    "   - Go(X, Y): go from X to Y\n",
    "   - Clean(X, cl): clean X and remove this place from cl\n",
    "   - Finish(cl): is the action of \"having finished the task\" (in this case when the cl is empty)\n",
    "   \n",
    "   **Possibility Axioms**:\n",
    "   - At(crobot,cl,x,s) AND Adjacent(x,y) AND Free(y) → **Poss(Go(x,y),s)**\n",
    "   - At(crobot,cl,x,s) AND Adjacent(y,x) AND Free(y) → **Poss(Go(x,y),s)**\n",
    "   - At(crobot,cl,x,s) AND *member*(x,cl) → **Poss(Clean(x,cl),s)**\n",
    "   - At(crobot,cl,x,s) AND *is_empty*(cl) → **Poss(Finish(x),s)** <br>\n",
    "   Note that *member* and *is_empty* are utility functions. Also, note that I added the second possibility axiom because I need to say that is possible to go from x to y and from y to x. Otherwise I should have inserted in the *Atemporal predicates* the viceversa for each Adjacent (namely, for Adjacent([1,1],[1,2]) I should have added also Adjacent([1,2],[1,1])).\n",
    "   \n",
    "   **Effect Axioms**:\n",
    "   For each *Possibility axiom* action I have to write what happens when the inside action is executed (for example if I apply Go(x, y), the agent moves from x to y). So in our case:\n",
    "   - Poss(Go(x,y),s) → At(crobot,cl,y,**Result(Go(x,y), s)**)\n",
    "   - Poss(Clean(x,cl),s) → At(crobot,remove(x,cl),x,**Result(Clean(x,cl),s)**)\n",
    "   - Poss(Finish(x),s) → Finish(crobot,**Result(Finish(x), s)**)\n",
    "\n",
    "   **Initial State**:\n",
    "   The initial state in the proper (namely for example in At(agent,cl,place,s) I have to fill *cl* and *place* with values, also At(dog,place), etc.) combination of *Fluents*, *Atemporal predicates* and the *goal* negated: <br>\n",
    "   At(crobot,[[1,2],[2,1].......],[1,1],S0) AND At(dog,[2,2]) AND At(cat,[2,3]) AND NOT(Finish(crobot S0) AND <br>\n",
    "    Adjacent([1,1],[1,2]) AND <br>\n",
    "    Adjacent([1,1],[2,1]) AND <br>\n",
    "    Adiacent([2,1],[3,1]) AND <br>\n",
    "    Adiacent([2,1],[2,2]) AND <br>\n",
    "    Adjacent([1,2],[2,2]) AND <br>\n",
    "    Adjacent([1,2],[1,3]) AND <br>\n",
    "    Adjacent([2,2],[2,3]) AND <br>\n",
    "    Adjacent([2,2],[3,2]) AND <br>\n",
    "    Adjacent([3,3],[2,3]) AND <br>\n",
    "    Adjacent([3,3],[3,2])\n",
    "    \n",
    "    Also I need to define all the free cells. I can do it by defining a single cell or writing it as follows: <br>\n",
    "    Free(x) ↔ NOT At(cat,x) AND NOT At(dog,x)\n",
    "\n",
    "3)  **Possible query**:\n",
    "   - EXISTS **seq** Finish(crobot,Result(**seq**,S0))\n",
    "   \n",
    "   **Frame problem with Successor Sate Axioms**:\n",
    "    We need to take the *Effect Axioms* and transform their action into a variable *a*:\n",
    "   - Poss(a, s) → At(crobot, cl, y, Result(Go(x,y), s)) ↔ a = Go(x, y) V (At(crobot, cl, y, *s*) AND a != Go(x, y))\n",
    "   - Poss(a, s) → At(crobot, remove(x, cl), x, Result(a, s)) ↔ a = Clean(x, cl) V (At(crobot, remove(x, cl), x, *s*) AND a != Clean(x, cl))\n",
    "   - Poss(a, s) → Finish(crobot, Result(a, s)) ↔ a = Finish(x) V ((Finish(crobot, *s*)) AND a != Finish(x))"
   ]
  },
  {
   "cell_type": "markdown",
   "metadata": {},
   "source": [
    "# FOL"
   ]
  },
  {
   "cell_type": "markdown",
   "metadata": {},
   "source": [
    "**Exercise 5** <br>\n",
    "Clara and Doris carpool to work. On even days Clara drives Doris and on odd days Doris drives Clara. In the former case, Clara is the driver and Doris is the passenger; in the latter case Doris is the driver and Clara is the passenger. When Doris is hill Clara is the driver. Both Clara and Doris have a drive license and the drive license is needed to drive. Passengers do not need the drive license. <br>\n",
    "    1) Select a knowledge representation language to encode the above knowledge.<br>\n",
    "    2) Write a knowledge base that encodes the above knowledge.<br>\n",
    "    3) Extend the knowledge base assuming that the current day is even, and that Clara has lost her drive license, will they be able to carpool to work? Provide a formal justification.\n"
   ]
  },
  {
   "cell_type": "markdown",
   "metadata": {},
   "source": [
    "1) To formalize the sentences we can use FOL because we do not need the expressivity of DL or SC.\n",
    "\n",
    "2) We assume the following Predicates: <br>\n",
    "carpool(Driver,Passenger) <br>\n",
    "drivelicense(Person) <br>\n",
    "ill(Person) <br>\n",
    "day(D) <br>\n",
    "odd(D) <br>\n",
    "\n",
    "This is a possible KB: <br>\n",
    "\n",
    "∀x Day(X) AND not(odd(X)) AND drivelicense(Clara) → carpool(Clara,Doris) <br>\n",
    "∀x Day(X) AND odd(X) AND drivelicense(Doris) → carpool(Doris, Clara) <br>\n",
    "∀x Day(X) AND ill(Doris) AND drivelicense(Clara) → carpool(Clara, Doris) <br>\n",
    "drivelicense(Clara) <br>\n",
    "drivelicense(Doris) <br>\n",
    "\n",
    "The we assume for each working day the facts: <br>\n",
    "odd(day1), not(odd(day2)) <br>\n",
    "odd(day3), not(odd(day4)) <br>\n",
    "odd(day5) <br>\n",
    "\n",
    "3) Extenion of the KB:\n",
    "\n",
    "not(drivelicense(Clara)) <br>\n",
    "\n",
    "If we extend the KB with the above predicate, the KB becomes inconsistent since we have also drivelicense(Clara) and thus is not possible to prove that they are able to carpool to work."
   ]
  },
  {
   "cell_type": "markdown",
   "metadata": {},
   "source": [
    "**Exercise 1** <br>\n",
    "\n"
   ]
  }
 ],
 "metadata": {
  "kernelspec": {
   "display_name": "Python 3",
   "language": "python",
   "name": "python3"
  },
  "language_info": {
   "codemirror_mode": {
    "name": "ipython",
    "version": 3
   },
   "file_extension": ".py",
   "mimetype": "text/x-python",
   "name": "python",
   "nbconvert_exporter": "python",
   "pygments_lexer": "ipython3",
   "version": "3.6.10"
  }
 },
 "nbformat": 4,
 "nbformat_minor": 4
}
