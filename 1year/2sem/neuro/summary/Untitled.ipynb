{
 "cells": [
  {
   "cell_type": "markdown",
   "metadata": {},
   "source": [
    "# Neuron\n",
    "- a discrete cell which is the primary computational unit of the nervous system\n",
    "- responsible for rapid communication\n",
    "- how many in our body\n",
    "    - enclosed by **membrane**\n",
    "- specialized at sending and receiving mex\n",
    "    - **electrochemical**"
   ]
  },
  {
   "cell_type": "markdown",
   "metadata": {},
   "source": [
    "### Neuron structure\n",
    "- dentrites\n",
    "    - covered by synapses\n",
    "    - spines\n",
    "- soma\n",
    "- axon\n",
    "- terminal buttons\n",
    "    - synaptic vesicles"
   ]
  },
  {
   "cell_type": "markdown",
   "metadata": {},
   "source": [
    "### The electrochemical brain\n",
    "- the cells’ membrane is a phospholipid bilayer\n",
    "    - ion channels\n",
    "    - ion pumps\n",
    "- presence and movement --> membrane potential\n",
    "    - 4 ions\n",
    "    - forces that influence the movement:\n",
    "        - diffusion\n",
    "        - electrostatic pressure\n",
    "- sodium-potassium pump\n",
    "    - -70mV"
   ]
  },
  {
   "cell_type": "markdown",
   "metadata": {},
   "source": [
    "### Action potential\n",
    "- neurons communicate via AP and chemical neurotransmitters\n",
    "- AP is an electrical event generated in axon\n",
    "    - AP causes release of neurotransmitters into synapes\n",
    "    - neurotransmitters can excite or inhibit neuron B..\n",
    "- AP occurs when the total sum of all the... --> AP -50mV threshold\n",
    "- Synapses can be seen  as..\n",
    "\n",
    "- in order to accelerate the propagation of AP, axons are myelinated\n",
    "    - the potential gets scattered --> loss in magnitude\n",
    "    - to avoid the complete loss of AP --> gaps known as *Nodes of Ranvier*\n",
    "        - this propagation knwon as *Saltatory Conduction*\n",
    "    - partial or total distruction --> multiple sclerosis"
   ]
  },
  {
   "cell_type": "markdown",
   "metadata": {},
   "source": [
    "### EEG\n",
    "- Neurons are never truly “at rest”.\n",
    "    - Individual depolarizing events happen at all times\n",
    "        - and their summation allows the signal to propagate synapse to synapse\n",
    "    - The final result is an *ongoing fluctuation* dendritic membrane potential\n",
    "- To measures this oscillatory and electrical activity in the human brain\n",
    "    - a non-invasive tool can be adopted --> EEG\n",
    "        - Summation of Post-Synaptic Potentials\n",
    "        - Event Related Potential\n",
    "            - signal related to consciuous event"
   ]
  },
  {
   "cell_type": "markdown",
   "metadata": {},
   "source": [
    "---------------------------------------------------------------------------------------------"
   ]
  },
  {
   "cell_type": "markdown",
   "metadata": {},
   "source": [
    "# Selective visual attention\n",
    "- is a mechanism used by the brain\n",
    "    - reduce the cost of processing the information\n",
    "- indeed, due to the high cost of neural activity..\n",
    "    - uses this *adaptive behaviour* to focus..\n",
    "- we are going to concentrate on the vision\n",
    "    - not used only for Object Detection but also fot guide movements\n",
    "    - these two functions are mediated by two parallel and interacting pathways:\n",
    "        - where pathway\n",
    "        - what/how pathway"
   ]
  },
  {
   "cell_type": "code",
   "execution_count": null,
   "metadata": {},
   "outputs": [],
   "source": []
  },
  {
   "cell_type": "code",
   "execution_count": null,
   "metadata": {},
   "outputs": [],
   "source": []
  },
  {
   "cell_type": "code",
   "execution_count": null,
   "metadata": {},
   "outputs": [],
   "source": []
  }
 ],
 "metadata": {
  "kernelspec": {
   "display_name": "Python 3",
   "language": "python",
   "name": "python3"
  },
  "language_info": {
   "codemirror_mode": {
    "name": "ipython",
    "version": 3
   },
   "file_extension": ".py",
   "mimetype": "text/x-python",
   "name": "python",
   "nbconvert_exporter": "python",
   "pygments_lexer": "ipython3",
   "version": "3.6.10"
  }
 },
 "nbformat": 4,
 "nbformat_minor": 4
}
