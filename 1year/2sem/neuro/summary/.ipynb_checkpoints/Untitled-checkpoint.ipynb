{
 "cells": [
  {
   "cell_type": "markdown",
   "metadata": {},
   "source": [
    "## Neuron\n",
    "- who invented it and when\n",
    "- responsible for rapid communication\n",
    "- how many in our body\n",
    "    - enclosed by **membrane**\n",
    "- specialized at sending and receiving mex\n",
    "    - **electrochemical**"
   ]
  },
  {
   "cell_type": "markdown",
   "metadata": {},
   "source": [
    "### Neuron structure\n",
    "- dentrites\n",
    "    - covered by synapses\n",
    "    - spines\n",
    "- soma\n",
    "- axon\n",
    "- terminal buttons\n",
    "    - synaptic vesicles"
   ]
  },
  {
   "cell_type": "markdown",
   "metadata": {},
   "source": [
    "### The electrochemical brain\n",
    "- the cells’ membrane is a phospholipid bilayer\n",
    "    - ion channels\n",
    "    - ion pumps\n",
    "- presence and movement --> membrane potential\n",
    "    - 4 ions\n",
    "    - forces that influence the movement:\n",
    "        - diffusion\n",
    "        - electrostatic pressure\n",
    "- sodium-potassium pump\n",
    "    - -70mV"
   ]
  },
  {
   "cell_type": "markdown",
   "metadata": {},
   "source": [
    "### Action potential\n",
    "- neurons communicate via AP and chemical neurotransmitters\n",
    "- AP is an electrical event generated in axon\n",
    "    - AP causes release of neurotransmitters into synapes\n",
    "    - neurotransmitters can excite or inhibit neuron B..\n",
    "- AP occurs when the total sum of all the... --> AP threshold\n",
    "- Synapses\n",
    "\n",
    "- in order to accelerate the propagation of AP, axons are myelinated\n",
    "    - the potential gets scattered --> loss in magnitude\n",
    "    - to avoid the complete loss of AP --> gaps known as *Nodes of Ranvier*\n",
    "        - this propagation knwon as *Saltatory Conduction*\n",
    "    - partial or total distruction --> multiple sclerosis"
   ]
  },
  {
   "cell_type": "code",
   "execution_count": null,
   "metadata": {},
   "outputs": [],
   "source": []
  }
 ],
 "metadata": {
  "kernelspec": {
   "display_name": "Python 3",
   "language": "python",
   "name": "python3"
  },
  "language_info": {
   "codemirror_mode": {
    "name": "ipython",
    "version": 3
   },
   "file_extension": ".py",
   "mimetype": "text/x-python",
   "name": "python",
   "nbconvert_exporter": "python",
   "pygments_lexer": "ipython3",
   "version": "3.6.10"
  }
 },
 "nbformat": 4,
 "nbformat_minor": 4
}
