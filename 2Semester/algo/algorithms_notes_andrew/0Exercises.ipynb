{
 "cells": [
  {
   "cell_type": "markdown",
   "metadata": {},
   "source": [
    "## Exercise 1.1  What is the cardinality of the set S^n, where S is any ﬁnite alphabet? Prove your claim. \n",
    "\n",
    "Claim : |S^n| = |S|^n\n",
    "\n",
    "Proof (by induction):\n",
    "\n",
    "- basis, n=0 :  |S^n| = |S^0| = |{epsilon}| = 1 = |S|^0 \n",
    "\n",
    "- inductive step: |S^(n+1)| = |S|* |S|*|S|^n = |S|^(n+1)\n",
    "\n",
    "note: |S^(n+1)| = |S|* |S|*|S|^n holds because S^(n+1) can be thought as all the possible concatenations x::y where x in S and y in S^n."
   ]
  },
  {
   "cell_type": "markdown",
   "metadata": {},
   "source": [
    "## Exercise 1.2 . What is the cardinality of the subset of {0,1}$^{2n}$ consisting of all and only the palindrome words? Prove your claim.\n",
    "\n",
    "I call $PAL^{2n}$ the subset of {0,1}$^{2n}$ consisting of all and only the palindrome word. \n",
    "\n",
    "My claim is that $|PAL^{2n}|=2^n$.\n",
    "\n",
    "Proof by induction:\n",
    "\n",
    "- Basis: n=0.\n",
    "  $PAL^{0} = \\text{empty set} \\to |PAL^{0}|=0 = 2^n$.\n",
    "  \n",
    "- Induction: $|PAL^{2(n+1)}| = 2*|PAL^{2(n)}| = 2*2n = 2^{n+1}$\n",
    "\n",
    "\"$|PAL^{2(n+1)}| = 2*|PAL^{2(n)}|$\" is motivated by the fact that any $p_1 \\in PAL^{2(n+1)}$ can be seen as $s$ U $p_2$ U $s$, where $ s \\in$ {0,1} and $p2 \\in PAL^{2n}$; so from each $p_n \\in PAL^{2(n)}$ can be obtained two $p_{n+1} \\in PAL^{2(n)}$"
   ]
  },
  {
   "cell_type": "markdown",
   "metadata": {},
   "source": [
    "## Exercise 1.3 What is the cardinality of the subset of {0,1}$^n$ consisting of all and only the words which have even parity (and the parity of a binary string is the number of occurrences of the symbol 1 inside it)? Prove your claim. \n",
    "\n",
    "\n",
    "Intuition:\n",
    "\n",
    "- |E^1|=|{0}|= 1  |O^1|=|{1}|= 1\n",
    "\n",
    "- |E^2|={00,11}=2 |O^2|=|{01,10}|= 2\n",
    "\n",
    "- |E^3|=|{000,110,011,101}|=4  |O^3|=|{001,100,010,111}|=4\n",
    "\n",
    "Claim:\n",
    "|E^n|= (2^n)/2\n",
    "\n",
    "Proof:\n",
    "1) It's clear that a binary string can have just an even or an odd parity: |{0,1}^n|=|E^n U O^n| = |E^n| + |O^n|.\n",
    "2) It's clear that if x in E^n, then y=1::x in O^n+1. This holds doing the concatenation in any position within x. \n",
    "3) It's clear that if x in O^n, then y=1::x in E^n+1. This holds doing the concatenation in any position within x.\n",
    "4) It's clear that if x in E^n, then y=0::x in E^n+1. This holds doing the concatenation in any position within x.\n",
    "5) It's clear that if x in O^n, then y=0::x in O^n+1. This holds doing the concatenation in any position within x.\n",
    "\n",
    "- since in any x,y string of equal lengths it's possible to concatenate a symbol 1 or 0 in the same number of different positions, and since its possible to decompose {0,1}^1 = E^1 U O^1 where E^1={0} and O^1={1} contains strings of the same length, then it must hold that |E^n|=|O^n| for any n. \n",
    "\n",
    "From this derive that |{0,1}^n|=|E^n U O^n| = |E^n| + |O^n| = 2|E^n|  -> |E^n| = |{0,1}^n|/2 = (2^n) /2 = 2^(n-1).  \n",
    "\n",
    "\n",
    "from the Professor: \n",
    "2,3,4,5 can be formalized in this way: \n",
    "En = {x ∈{0,1}∗ | x = 0·y∧y ∈ En−1}∪{x ∈{0,1}∗ | x = 1·y∧y ∈ On−1} \n",
    "On = {x ∈{0,1}∗ | x = 0·y∧y ∈ On−1}∪{x ∈{0,1}∗ | x = 1·y∧y ∈ En−1} \n",
    "\n",
    "\n",
    "Anyway this must be proved. It's proved by discussing this: |En| = |En−1|+|On−1|; |On| = |On−1|+|En−1|.\n",
    "The fact that |En| = |On| = 2n−1 for every n ≥ 1 can thus be proved by induction on n:\n",
    "\n",
    "- basis: If n = 1, then En = {0} and On = {1} and the thesis holds. \n",
    "\n",
    "- inductive step: Suppose the thesis holds for n, and let us prove that if must hold for n + 1: |En+1| = |En|+|On| = 2n−1 + 2n−1 = 2·2n−1 = 2n; |On+1| = |On|+|En| = 2n−1 + 2n−1 = 2·2n−1 = 2n. \n"
   ]
  },
  {
   "cell_type": "markdown",
   "metadata": {},
   "source": [
    "# Exercise 1.4 Relate the following pair of functions (fi,gi) by way of O(·), Ω(·) or Θ(·) notation:\n",
    "\n",
    "# $f1(n) = n^2 \\qquad g1(n) = 4n^1 + 100log(n)$ \n",
    "\n",
    "I claim that g1 = O(f1). proof:\n",
    "\n",
    "By definition of O() i need to proof that exist at least a couple n0, c such that for any n>=n0 this inequality holds:\n",
    "g1 <= c f1.\n",
    "\n",
    "So:  $4n^1 + 100log(n)  \\leq c  n^2  \\quad \\to \\quad \\frac{4}{n} + \\frac{100log(n) }{n^2} \\leq c $\n",
    "\n",
    "It is a good choice to look for a value starting from which the right term decreases, so the value n0 such that for any n>n0 $100log(n) \\leq {n^2} $, which happens for instance for n0=100. For sure for any n>=n0 the right side of the this inequality decrease: $\\frac{4}{n} + \\frac{100log(n) }{n^2} \\leq c $, so for $c \\geq \\frac{4}{100} + \\frac{100log(n) }{100^2} = 0.25 + \\frac{100log(100) }{100} =$ the inequality holds for any $n \\geq n0=100$\n",
    "\n",
    "f1 = sigma(g1).\n",
    "\n",
    "# $f2(n) = nlog(n) \\qquad  g2(n) = 10nlog(log(n))$\n",
    "\n",
    "... holds n/log(n) will increase for n sufficiently large since n grows asymptotically strictly faster than log(n).\n",
    "\n",
    "# $f3(n) = 2^n n^2 \\qquad g3(n) = 3n$\n",
    "\n",
    "# $f4(n) = 100n \\qquad g4(n) =(1/100)nlog(n)$\n",
    "\n",
    "# $f5(n) = log^3(n) \\qquad g5(n) = n^{2/3}$ \n",
    "\n",
    "# $f6(n) = 10−3n^3 \\qquad g6(n) = 104n^3 + 105n^2 log^3(n)$"
   ]
  },
  {
   "cell_type": "markdown",
   "metadata": {},
   "source": [
    "# Exercise 1.5. Deﬁne appropriate encodings of the following countable sets into the set of {0,1}∗ binary strings: \n",
    "\n",
    "# The set Q of all rational numbers. \n",
    "I can think of any number $q \\in Q$ as a fractional number, encoded as a pair (ne,ze) where \"ne\" is the encoding of the numerator $n \\in N$ and \"ze\" is the encoding of the denominator $z \\in Z$. But the exercise require to encode Q just as strings composed by 0 and 1. So i can encode all the numerators with the first element of the string as 0, while all the denominators with the first element of the string as a 1. But in the set the order is not necessarly kept, so how can I indicate the pairs of numerator and associated denominator? YOU DON'T NEED TO DO IT: THE SET Q IS DESCRIPTED BY ALL THE POSSIBLE COMBINATIONS OF NUMERATORS AND DENOMINATORS.\n",
    "\n",
    "# The disjoint union NUZ of the set N of the natural numbers and of the set Z of the integer numbers. \n",
    "(disjoint union: consider A={1,2,3} , B={5,7}, then the disjoint union AUB = {(1,0),(2,0),(3,0),(5,1),(7,1)}).\n",
    "NUZ can be encoded simply with the encoding of the element n belonging to N concatenated with a 0, or the encoding of the element z belonging to Z concatenated with the 1.\n",
    "\n",
    "# The class of all ﬁnite, directed graphs, namely pairs of the form (V,E) where V is a ﬁnite set, and E is a subset of V ×V .\n",
    "Let's see how to encode V and E:\n",
    "\n",
    "1) V is the set {1..n} so can be simply encoded with the encoding of the natural number n, concatenated with a 0.\n",
    "\n",
    "2) E is a subset of VxV. Before to describe this string I use an intermediate encoding: VxV can be encoded in a nxn matrix, where the element i,j is =1 iff E contains the edge (i,j). Now I can encode this matrix in a single string by concatenating the rows. In order to recognize that this is the encoding of a set of edges finally I concatenate the latter string with a 1.\n",
    "\n",
    "The pair V,E can be encoded as >V<#>E<. But it is needed to encode the string using just the alphabet {0,1}, so i do a further encoding of the encoding: 1->11, 0->00, #->10.\n"
   ]
  },
  {
   "cell_type": "markdown",
   "metadata": {},
   "source": [
    "# more:\n",
    "- Lists: inverting a list, sorting a list, ﬁnding the maximum or minimum element in a list, etc. \n",
    "\n",
    "- Graphs: reachability, shortest paths, minimum spanning trees, etc. \n",
    "\n",
    "- Numbers: primality test, exponentiation, etc. \n",
    "\n",
    "- Strings: string matching, approximate string matching, etc. \n",
    "\n",
    "- Optimization Problems: linear programming, maximum cost ﬂow, etc.\n",
    "\n",
    "- https://turingmachinesimulator.com/\n",
    "\n"
   ]
  },
  {
   "cell_type": "markdown",
   "metadata": {},
   "source": [
    "- palindrome words: in the simulator example using only one tape it uses the state to do this: delete the first symbol and store if it was a 0 or a one in the semantic of the new state, go to the end of the word and check if it is the same symbol, in that case delete it. Do the same thing starting from the right-most element this time, and so on. \n",
    "\n",
    "- binary addition: in the simulator it uses 3 tapes. The addends are encoded as a#b. In the first scan b is removed from the input tape and copied in the working tape. then is done simply the sum of the two numbers by scanning them from left, bit by bit. How is the carry taken into account? by the semantic of the state. \n",
    "\n",
    "- binary multiplication: with 3 tapes. in the working tape is copied the second factor. Then it applies the clever algorithm to do the product."
   ]
  },
  {
   "cell_type": "code",
   "execution_count": null,
   "metadata": {},
   "outputs": [],
   "source": []
  }
 ],
 "metadata": {
  "kernelspec": {
   "display_name": "Python 3",
   "language": "python",
   "name": "python3"
  },
  "language_info": {
   "codemirror_mode": {
    "name": "ipython",
    "version": 3
   },
   "file_extension": ".py",
   "mimetype": "text/x-python",
   "name": "python",
   "nbconvert_exporter": "python",
   "pygments_lexer": "ipython3",
   "version": "3.6.10"
  }
 },
 "nbformat": 4,
 "nbformat_minor": 4
}
