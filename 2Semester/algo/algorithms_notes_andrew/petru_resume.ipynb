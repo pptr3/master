{
 "cells": [
  {
   "cell_type": "markdown",
   "metadata": {},
   "source": [
    "- difference between NP-Complete and NP-Hard (and the others too)\n",
    "- Hierarchy Theorem, what is being enunciated (dati f and g tali che sono time constructible etc.)\n",
    "- what is the problem that is NP-Hard but is not in NP, P nor EXP? Halting Problem because is NP-Hard so you can reduce every NP problem to it but you cannot decice and calculate it. Why you cannot calculate it? Because there is theoorem that has been proven that you cannot calculate the halt() function and since you cannot calculate it, that problem does not belong to any class complexity.\n",
    "- talk me about UTM\n",
    "- complexity X problem (INDSET, xSAT, CLIQUE, MIS, ...). Regarding INDSET, why is it in NP? How a solution could be a certificate?\n",
    "- PAC-learnability, efficient PAC learnability, so the fact that the algo must run in polytime\n",
    "- what changes if we solve a problem with a 1 tape TM instead of a multi-tape TM\n",
    "- Configurations of TMs and Uncomputable Function UC (not Halting problem)\n",
    "- subset sum: problem definition, which class, the fact that can be reduced from OL3SAT was a plus\n",
    "- what is the relation between P and EXP and how to prove that a language is in EXP but not in P. The answer to the second question is the hierarchical theorem, precisely the construction done in the proof.\n",
    "- domande crocette"
   ]
  },
  {
   "cell_type": "markdown",
   "metadata": {},
   "source": [
    "# Turing Machine\n",
    "\n",
    "A Turing machine is a mathematical model of computation that manipulates symbols on a tape according to some specific rules.\n",
    "\n",
    "A k-tapes TM M is made up of: <br>\n",
    "\n",
    "- **Scratch Pad/Working space**: the scratch pad consists of k tapes + heads. A tape is an infinite one-directional line of cells, each of which can hold a symbol from a finite set Γ called **the alphabet of the machine** (the alphabet contains 0,1 and can contain other symbols, for instance to indicate blank cells, start cells, etc.).\n",
    "\n",
    "- **Finite set of operations/rules**: the machine has a finite set of states, denoted by Q. At each step, the machine: <br>\n",
    "    1) Read the symbols under the k tape heads. <br>\n",
    "    2) For the read-write tapes, replace the symbol with a new one, or leave it unchanged. <br>\n",
    "    3) Change its state to a new one. <br>\n",
    "    4) Move each of the k tape heads to the left or to the right (or stay in place). <br>\n",
    "\n",
    "**Running time**: The running time of this machine/process/algorithm on an input x is simply the number of these basic instructions which are executed on a certain input x. \n",
    "\n",
    "**Time T(n)**: We say that the machine runs in time T(n) if it performs at most T(n) instructions on input strings of length n. \n",
    "\n",
    "Each step of the computation is performed by applying the function δ describing the rule M uses in performing each step. This function is called the **transition function** of M. This function simply means: given the state q and the symbols in the k tapes, then update the state and the symbols in the other tapes and move each tape head on the Right, on the Left or Stay there. <br>\n",
    "The special **halting state qhalt** has the property that once the machine is in qhalt, the transition function δ does not allow it to further modify the tape or change its state.\n",
    "\n",
    "\n",
    "- **Configuration** (C), consists of:\n",
    "    - The current state q. \n",
    "    - The contents of the k tapes. \n",
    "    - The positions of the k tape heads. "
   ]
  },
  {
   "cell_type": "markdown",
   "metadata": {},
   "source": [
    "## Theorem (UTM, simulation time overhead)\n",
    "\n",
    "A Universal Turing machine (UTM) is a Turing machine that simulates an arbitrary Turing machine on an arbitrary input.\n",
    "\n",
    "\n",
    "*The Universal Turing Machine*:\n",
    "- Is an essential ingredient of in the proof of existence of uncomputable problems.\n",
    "- Can simulate every Turing machine, with a polynomial overhead.\n",
    "- Can simulate itself.\n",
    "- **Does not** work in polynomial time."
   ]
  },
  {
   "cell_type": "markdown",
   "metadata": {},
   "source": [
    "## Theorem of the uncomputability\n",
    "\n",
    "There exists a function uc : {0,1}∗ →{0,1}∗ that is not computable by any Turing Machine."
   ]
  },
  {
   "cell_type": "markdown",
   "metadata": {},
   "source": [
    "## Halting problem\n",
    "\n",
    "The halting problem is the problem of determining, given an arbitrary TM and and arbitrary input, whether the program will finish its computation or continue to run forever.\n",
    "\n",
    "It consists on computing the function halt which is defined as follows: <br>\n",
    "halt(>(α,x)<) = 1 if Mα halts on input x; 0 otherwise\n",
    "\n",
    "**However, the function halt is not computable by any TM.**\n",
    "\n",
    "**The Halting Problem is undecidable and NP-Hard.** Thus, cannot be decidable nor in polytime and nor in EXP time."
   ]
  },
  {
   "cell_type": "markdown",
   "metadata": {},
   "source": [
    "## Nondeterministic Turing Machines NDTM\n",
    "\n",
    "The only differences between a NDTM and an ordinary TM is that the former has:\n",
    "\n",
    "- Two transition functions δ0 and δ1 rather than just one. At every step, the machine chooses nondeterministically one between the two transition functions and proceed according to it;\n",
    "- A special state q_accept\n",
    "\n",
    "Given an input to a TM the output is always the same. This is not true for the NDTM where the evolution is not always the same.\n",
    "\n",
    "We say that a NDTM M:\n",
    "- **Accepts** the input x ∈ {0, 1}∗ iff there exists one evolution of the machine M (when fed with the input x) which makes it reaching q_accept.\n",
    "- **Rejects** the input x ∈ {0, 1}∗ iff any possible evolutions leads to q_accept.\n",
    "\n",
    "*Nondeterministic Turing Machines*:\n",
    "- Can be simulated by deterministic TMs.\n",
    "-  If working in polynomial time, can be used to characterize NP.\n",
    "- **Are not** essential to define the complexity class NP.\n",
    "- **Do not** always work in polynomial time."
   ]
  },
  {
   "cell_type": "markdown",
   "metadata": {},
   "source": [
    "### NDTIME(T(n)):\n",
    "NDTIME(T(n)) is the set of languages decidable by a NDTM in time T."
   ]
  },
  {
   "cell_type": "code",
   "execution_count": null,
   "metadata": {},
   "outputs": [],
   "source": []
  },
  {
   "cell_type": "code",
   "execution_count": null,
   "metadata": {},
   "outputs": [],
   "source": []
  },
  {
   "cell_type": "code",
   "execution_count": null,
   "metadata": {},
   "outputs": [],
   "source": []
  },
  {
   "cell_type": "markdown",
   "metadata": {},
   "source": [
    "# Intro to complexity classes\n",
    "\n",
    "A **complexity class** is a set of TASKS which can be computed within some prescribed resource bounds.\n",
    "The classes are defined based on TM, but remember that a TM is an algorithm, not a task."
   ]
  },
  {
   "cell_type": "markdown",
   "metadata": {},
   "source": [
    "### DTIME(T(n)):\n",
    "The DTIME(T(n)) is the set of languages decidable by a deterministic TM in time cT(n) for some constant c."
   ]
  },
  {
   "cell_type": "markdown",
   "metadata": {},
   "source": [
    "## P class\n",
    "The class P consists of all those decision problems that can be solved by a deterministic Turing Machine in an amount of time that **is polynomial wrt the size of the input**. <br>\n",
    "\n",
    "- both solution and verification are polynomial.\n",
    "\n",
    "### The Church-Turing Thesis\n",
    "\n",
    "Why can we base the classification of tasks on TM? <br>\n",
    "The **Church-Turing Thesis** says that every physically realizable computer can be simulated by a TM with a (possibly very large) overhead in time.\n",
    "\n",
    "The **Strong Church-Turing Thesis** says that every physically realizable computation model can be simulated by a TM with **polynomial** overhead (in other words, t steps on the model can be simulated in $t^c$ steps on the TM, where c is a constant that depends upon the model). It means that if the TM computes an algorithm in $t^c$ steps, a real computer could compute it in much less time! \n"
   ]
  },
  {
   "cell_type": "markdown",
   "metadata": {},
   "source": [
    "## FP class\n",
    "\n",
    "What is it? Is exactly the same thing of the class P, but for *function problem*. <br>\n",
    "What are the function problem? Are those problems whose output is NOT NECESSARLY only 1/0. But are problems which take a string as input and output a string. <br>\n",
    "Also, the following holds:\n",
    "- any Language which belongs to P can be transformed in a function which belongs to FP (since of course the Boolean functions which are in P are also in FP).\n",
    "\n",
    "- also some kind of functions (like optimization problems) can be transformed in a language (because the problem becomes: \"is the input above a certain threshold? Therefore the answer would be 1/0 \"). **In general, however, it is not true that the language associated to a function in FP is also in P**.\n",
    "\n",
    "If Lf ∈ P $\\rightarrow$ f ∈ FP. <br>\n",
    "However, If Lf ∈ P $\\nleftarrow$ f ∈ FP."
   ]
  },
  {
   "cell_type": "markdown",
   "metadata": {},
   "source": [
    "### How to prove that something is in P or FP:\n",
    "\n",
    "The four steps for proving that something is in P of FP are the following: <br>\n",
    "1) We encode the input as a binary string.<br>\n",
    "2) We prove that the number of instructions of the algorithm is bounded by a polynomial wrt the length of the input.<br>\n",
    "3) We argue that each instruction can be simulated by a TM in polynomial time.<br>\n",
    "4) We show that all ‘intermediate’ data and results of the algorithm are bounded by a polynomial wrt the length of the input.<br>"
   ]
  },
  {
   "cell_type": "markdown",
   "metadata": {},
   "source": [
    "## Class EXP and FEXP:\n",
    "The class EXP consists of all those decision problems that can be solved by a deterministic Turing Machine in an amount of time that **is exponential wrt the size of the input**. <br>\n",
    "\n",
    "Are the same as P and FP, but instead of polynomial the bound is $2^{n^c}$\n",
    "\n",
    "Example: the wedding plan / MIS problem.\n",
    "\n",
    "Is there a class of algorithms which is something between EXP and P? YES! It is NP. <br>\n",
    "Note that there are also problems which are not solvable in EXP time, for instance the halting problem which is undecidable.\n",
    "\n",
    "**Note**: We proved that P is different from EXP, so it is strictly included. What about NP? Since we know that P is different from EXP, then NP must strictly include P OR strictly be included in EXP. We still don't know between the two options which is the correct one though.\n",
    "\n",
    "**THEOREM** <br>\n",
    "P ⊆ EXP, FP ⊆ FEXP, these two inclusions are strict."
   ]
  },
  {
   "cell_type": "markdown",
   "metadata": {},
   "source": [
    "## $P \\subset EXP$ strictly  and Hierarchy Theorem\n",
    "\n",
    "It's easy to prove that P ⊆ EXP, because any TM which works in polytime works also in exponential time.\n",
    "\n",
    "We need now to prove that **EXP is different from P**. We want to prove it by proving a stronger thing which is the **Hierarchy Theorem**:\n",
    "- The Hierarchy Theorem informally says that given more time, a Turing Machine can solve more problems.\n",
    "More formally, the Hierarchy Theorem states that if f(n) and g(n) are time-constructable functions and f(n)log(f(n)) = o(g(n)) then DTIME(f(n)) $\\subset$ DTIME(g(n)) strictly."
   ]
  },
  {
   "cell_type": "markdown",
   "metadata": {},
   "source": [
    "## Class NP (\"Nondeterministic Polynomial time\")\n",
    "\n",
    "To say that a problem is in NP we need to show what is the certificate and that it has polynomial length wrt the input, then show that it can be used to check if an input x is the solution in polynomial time with a TM.\n",
    "\n",
    "Note that it doesn't exist FNP.<br>\n",
    "\n",
    "The class NP consists of all those decision problems whose positive solutions can be verified in polynomial time but its solution seems to not be polynomial. <br>\n",
    "Or equivalently whose solution can be found in polynomial time on a non-deterministic machine, that's why it is called nondeterministic P. <br>\n",
    "Note:  P ⊆ NP.\n",
    "\n",
    "Sudoku, for instance, is in NP (**quickly checkable**) but does not seem to be in P (**quickly solvable**).\n",
    "\n",
    "**THEOREM** <br>\n",
    "P ⊆ NP ⊆ EXP\n",
    "\n",
    "**Anytime someone asks you if a problem is in P or NP** you should ask yourself: CAN I FIND A CERTIFICATE? WHICH MEANS AN OBJECT/NOTION/STRING WHICH **I CAN CHECK IN POLYNOMIAL TIME** WITH A TM TO MAKE THE LANGUAGE=1!"
   ]
  },
  {
   "cell_type": "markdown",
   "metadata": {},
   "source": [
    "## Reductions\n",
    "\n",
    "The language L is said to be **polynomial-time reducible** to another language H iff there is a polytime computable function f : {0, 1}∗ → {0, 1}∗ such that x ∈ L iff f (x) ∈ H.\n",
    "\n",
    "In this case, we write L ≤p H.\n",
    "\n",
    "That means: if exist such an f, since we can solve L by using H, L is classified as at most difficult as H (so, L cannot be more difficult than H)."
   ]
  },
  {
   "cell_type": "markdown",
   "metadata": {},
   "source": [
    "We need a (pre-order) relation between languages such that two languages being in relation tells us something precise about the relative difficulty of deciding them. In particular we need the following relations:\n",
    "\n",
    "- **transitive**: L ≤p P and P ≤p H, then L ≤p H\n",
    "- **reflexive**: L ≤p L\n",
    "\n",
    "These relations are not antysymmetric. Indeed, if L ≤p P and P ≤p L, then is NOT true that L=P. Anyway in that case I can say that they are equivalent in terms of complexity."
   ]
  },
  {
   "cell_type": "markdown",
   "metadata": {},
   "source": [
    "Some reductions:\n",
    "    \n",
    "CLIQUE <=p SAT <br>\n",
    "SAT <=p 3SAT <br>\n",
    "SAT <=p SAT <br>\n",
    "3SAT <=p CLIQUE <br>\n",
    "3SAT <=p OL3SAT <br>\n",
    "OL3SAT <=p SUBSETSUM <br>\n",
    "SAT <=p INDSET <br>\n",
    "2SAT <=p INDSET <br>\n",
    "INDSET <=p 3SAT <br>\n",
    "SAT <=p ILP <br>\n",
    "\n",
    "2SAT is polynomial so is the less difficult"
   ]
  },
  {
   "cell_type": "markdown",
   "metadata": {},
   "source": [
    "Given that L is in NP, and that SAT is NP-complete (which has been proven to belong to NP-complete), we know that L ≤p SAT, i.e. that instances of L can be efficiently translated into instances of SAT. <br>\n",
    "This is often very useful, because specialised tools for SAT, called SAT-solvers do exist. \n",
    "- They do not work in polynomial time. \n",
    "- Concretely, they work extremely well on a relatively large class of formulas."
   ]
  },
  {
   "cell_type": "markdown",
   "metadata": {},
   "source": [
    "## Class NP-Complete\n",
    "\n",
    "\n",
    "A language H ⊆ {0, 1}∗ is said to be **NP-Complete** if H is NP-hard, and H ∈ NP. <br>\n",
    "\n",
    "\n",
    "Some NP problems have the property of NP-completeness: a fast solution to any one of them could be used to build a quick solution to any other problem in NP. Any NP problem can be transformed into any of the NP-complete problems. Informally, an NP-complete problem is an NP problem that is at least as \"tough\" as any other problem in NP.\n",
    "\n",
    "Resume:\n",
    "\n",
    "- Polynomial algorithm to find the solution is not necessary.\n",
    "- **Polynomial verification of the solution.**\n",
    "- Recognized as more tough than the other NP problem to be solved.\n",
    "- Any other NP problem can be transformed in a NP-complete problem, doing the transformation in polynomial time, so if an NP-complete is solved by using a polynomial algorithm, it would prove that NP=P.\n",
    "- Deciable problem.\n",
    "\n",
    "### Prove that L is NP-Complete\n",
    "\n",
    "1) Prove that L is in NP. \n",
    "\n",
    "2) Prove that any other language H ∈ NP is such that H ≤p L. <br>For example we can do this taking into account SAT. So, any language L in NP can be reduced to SAT (L ≤p SAT). "
   ]
  },
  {
   "cell_type": "markdown",
   "metadata": {},
   "source": [
    "## Class NP-Hard\n",
    "\n",
    "A language H ⊆ {0, 1}∗ is said to be **NP-Hard** if L ≤p H for every L ∈ NP. <br>\n",
    "\n",
    "Which means if H is bigger (remember that we mean order in the sense of difficulty) than any other language in NP. <br>\n",
    "Note that an NP-hard problem is not necessary in NP, could be also in EXP or higher.\n",
    "\n",
    "Note that NP-hard does not simply means that it is at least as difficult as all the NP languages, but it must be a language to which all the NP languages can be reduced to it!\n",
    "\n",
    "**THEOREM** <br>\n",
    "If L is NP-hard and L ∈ P, then P = NP. <br>\n",
    "If L is NP-complete, then L ∈ P iff P = NP.\n",
    "\n",
    "Resume:\n",
    "- Polynomial algorithm unknown until now.\n",
    "- **Polynomial verification of the solution only for some of them!**\n",
    "- Recognized as at least tough as the NP-complete problems.\n",
    "- Any other NP problem can be transformed in a NP-hard problem, doing the transformation in polynomial time.\n",
    "- If an NP-hard is solved by using a polynomial algorithm, it would prove that NP=P.\n",
    "- If it is undecidable, for sure is NP-hard and not NP.\n",
    "- **NP-Complete, NP and P are included in EXP, BUT NP-Hard we still don't know!**"
   ]
  },
  {
   "cell_type": "markdown",
   "metadata": {},
   "source": [
    "## k-CNF:\n",
    "The disjunctions in a CNF are said to be clauses, and a kCNF is a CNF whose clauses contains **at most** k ∈N literals. <br>\n",
    "\n",
    "A formula F is **satisfiable** iff there is one configuration of the input that makes the formula true.\n",
    "\n",
    "Examples: <br>\n",
    "the two formulas X ∨¬X and X ∧(Y ∨¬Z) are 2CNFs, but not 1CNFs.\n",
    "\n",
    "k low -> complexity of kSAT is lower."
   ]
  },
  {
   "cell_type": "markdown",
   "metadata": {},
   "source": [
    "## Cook-Levin Theorem:\n",
    "\n",
    "This theorem is useful to prove that other languages are NP-problems by reduction.\n",
    "\n",
    "Let SAT be the language of all satisfiable CNF formulae and 3SAT be the language of all satisfiable 3CNF formulae. Then,\n",
    "\n",
    "**1. SAT is NP-complete.** SAT = {F is a satisfiable CNF}\n",
    "\n",
    "**2. 3SAT is NP-complete.** 3SAT = {F is a satisfiable 3CNF}"
   ]
  },
  {
   "cell_type": "markdown",
   "metadata": {},
   "source": [
    "## P ⊆ NP ⊆ EXP\n",
    "\n",
    "proof:\n",
    "\n",
    "  1) P ⊆ NP. To prove it we must show that if L $\\in$ P.\n",
    "     \n",
    "  2) NP ⊆ EXP. To prove it we must show that any NP problem can be solved in EXP time. To do that we simply say that any language L $\\in$ NP can be DECIDED by trying all possible certificates until you find one for which the pair (input,certificate) satisfy the test of the verifier."
   ]
  },
  {
   "cell_type": "code",
   "execution_count": null,
   "metadata": {},
   "outputs": [],
   "source": []
  },
  {
   "cell_type": "code",
   "execution_count": null,
   "metadata": {},
   "outputs": [],
   "source": []
  },
  {
   "cell_type": "code",
   "execution_count": null,
   "metadata": {},
   "outputs": [],
   "source": []
  },
  {
   "cell_type": "markdown",
   "metadata": {},
   "source": [
    "# PAC learnability:\n",
    "\n",
    "PAC = Probably Approximately Correct.\n",
    "\n",
    "PAC learning theory helps analyze whether and under what conditions a learner L will probably output an approximately correct classifier. \n",
    "\n",
    "\n",
    "A concept class C is PAC learnable iff there exist an algorithm A such that for every concept c ∈ C, for every distribution D, for every error parameter ε and delta parameter δ that range from 0 to 1/2, the probability to make an error that is < ε, is > 1−δ, where the probability is taken over the calls to the extraction function.\n",
    "\n",
    "### Efficiently PAC learnability\n",
    "\n",
    "We say that C is **efficiently PAC learnable** if:\n",
    "- the time complexity of an algorithm A is bounded by a polynomial in 1/ε and 1/δ, where the complexity of A is measured taking into account the number of calls to EX (c, D).\n"
   ]
  },
  {
   "cell_type": "markdown",
   "metadata": {},
   "source": [
    "*The notion of PAC-learnable concept class*:\n",
    "- does not make any reference to the time complexity of the learning algorithm\n",
    "- needs to hold for every distribution D on the instance class\n",
    "- can be reached when the underlying concept class is the one conjunctions of literals"
   ]
  },
  {
   "cell_type": "code",
   "execution_count": null,
   "metadata": {},
   "outputs": [],
   "source": []
  },
  {
   "cell_type": "code",
   "execution_count": null,
   "metadata": {},
   "outputs": [],
   "source": []
  },
  {
   "cell_type": "code",
   "execution_count": null,
   "metadata": {},
   "outputs": [],
   "source": []
  },
  {
   "cell_type": "code",
   "execution_count": null,
   "metadata": {},
   "outputs": [],
   "source": []
  },
  {
   "cell_type": "markdown",
   "metadata": {},
   "source": [
    "\n",
    "\n",
    "\n",
    "\n",
    "# FROM PROFESSOR'S EXERCISES:\n",
    "\n",
    "# MIS formalization:\n",
    "\n",
    "Given a graph G=(V,E), determine a subset W of V such that:\n",
    "\n",
    "1) for all v$\\in$W : N(v) $\\cap$ W = $\\emptyset$, where N(v)={w | {v,w} $\\in$ E} % which means that no vertex into the result subset W can be be neighbours.\n",
    "\n",
    "2) W has maximum cardinality among all the sets having the property 1.\n",
    "\n",
    "# DMIS/INDSET  formalization:\n",
    "DMIS = INDSET ={x in {0,1}* | x= > (V,E),k <  & MIS(V,E)  >= k }\n",
    "\n",
    "#  SAT is in NP:\n",
    "The certificate is the assignment, the verifier is the TM which exploits the semantic of Prop Logic to show that the formula is true.\n",
    "\n",
    "#  SAT ≤p 3SAT\n",
    "\n",
    "See the pdf. The resume is that taken a F= C1^C2^..^Cn where Ci has an arbitrary number of literals, you convert it into 3C1^3C2^..^3Cm where 3Ci has at most 3 literals. To do it you need to \"explode\" each Ci in a group of 3Ci each composed by less literals. But how do you relate these 3Ci literals in order to obtain a formula 3F which is satisfiable iff F is satisfiable? By introducing cleverly some new variables into the 3Ci clauses which inter-relate the 3Ci clauses. (number of new variables= number of C literals -3)\n",
    "\n",
    "\n",
    "#  The \"INDSET\" is NP-complete.\n",
    "\n",
    "Remember that INDSET is the decision problem correspondent to MIS.\n",
    "To do it we do a polytime reduction from 3SAT to INDSET.\n",
    "When doing this forget about encoding in binary strings, it doesn't matter. \n",
    "Each possible clause assignation, BUT THE ONE which makes the clause NOT SATISFIABLE (ONLY ONE SINCE THE VARIABLES ARE LINKED BY \"OR\" WITHIN A CLAUSE, so the assignment in which all literals are false), are transformed into a node and connected between them by edges (to say that they are mutually exclusive, indeed we use edges to inconsistencies). So in case of 3SAT we have 2^n -1 = 7 nodes per clause. There are other inconsistencies of which we should take care of? Yes: the same variable occurring negated in the assignment into another clause -> there's an inconsistency with these two assignments -> put an edge between them.  \n",
    "Great, so if we the 3SAT problem is composed by n clauses we need simply to convert it in the former descripted graph and solve INDSET with minimum size of the independent graph = n. Once the subset of consistent assignment has been found it's easy to convert it in the assignment of all the variables of the initial formula F of the 3SAT problem.\n",
    "\n",
    "\n",
    "# 0/1 decisional linear programming is NP-complete.\n",
    "First prove that 0/1 decisional linear programming is in NP.\n",
    "There's an easy polytime reduction from 3SAT to ILP. check it yourself, possible exercise.\n",
    "\n",
    "The idea is simple: Let Ci be a clause in 3-SAT, if Ci = (x1, x2, x3) in disjunction form, we construct an inequality equation as x1 + x2 + x3 ≥ 1. If variable xi is in the negate form in clause Ci, we represent it as 1-xi in the inequality equation....\n"
   ]
  },
  {
   "cell_type": "code",
   "execution_count": null,
   "metadata": {},
   "outputs": [],
   "source": []
  },
  {
   "cell_type": "code",
   "execution_count": null,
   "metadata": {},
   "outputs": [],
   "source": []
  },
  {
   "cell_type": "code",
   "execution_count": null,
   "metadata": {},
   "outputs": [],
   "source": []
  },
  {
   "cell_type": "code",
   "execution_count": null,
   "metadata": {},
   "outputs": [],
   "source": []
  },
  {
   "cell_type": "code",
   "execution_count": null,
   "metadata": {},
   "outputs": [],
   "source": []
  },
  {
   "cell_type": "markdown",
   "metadata": {},
   "source": [
    "## Exam exercises\n",
    "**1SAT** <br>\n",
    "\n",
    "We studied the classes SAT, and 3SAT, and 2SAT. You are required to classify the problem 1SAT containing all (and only) the satisfiable 1CNFs. In particular, to which complexity class does 1SAT belong? Prove your claim.\n",
    "\n",
    "Answer: <br>\n",
    "\n",
    "since 1SAT has only one literal per clause, namely it has only AND between N variables, we can just for loop all the variables and for each variable I check whether from the other N-1 variables is not present the same variable negated. Therefore 1SAT is in P.\n",
    "\n",
    "For example: A^B^not C is 1SAT, while A^B^C^not A it not.\n",
    "\n",
    "**CLIQUE** <br>\n",
    "\n",
    "We studied the problem CLIQUE. You are required to classify the subset THREECLIQUE of CLIQUE consisting of all the pairs (G,3). To which class does THREECLIQUE belong?\n",
    "\n",
    "One can test whether a graph G contains a k-vertex clique, and find any such clique that it contains, using a brute force algorithm. This algorithm examines each subgraph with k vertices and checks to see whether it forms a clique. It takes time O(nk k2), as expressed using big O notation. This is because there are O(nk) subgraphs to check, each of which has O(k2) edges whose presence in G needs to be checked. Thus, the problem may be solved in polynomial time whenever k is a fixed constant. However, when k does not have a fixed value, but instead may vary as part of the input to the problem, the time is exponential.\n",
    "\n",
    "\n",
    "**ONEINDSET** <br>\n",
    "\n",
    "To get the independent set you can scan all the edges (v, u) and pick only one node (which one is not important). From the definition of ONEINDSET you are sure that the set obtained in this way is independent (as the nodes appear in at most one edge). To complete the independent set you need to add also the nodes that are not in edges. If you write a pseudocode for the above algorithm you can check that it runs in polytime on the input size\n",
    "\n",
    "**UNIVERSAL SINK**\n",
    "We have to find in an adjacent matrix this structure:\n",
    "           k<br>\n",
    "  +---+---+---+---+---+<br>\n",
    "  |   |   | 1 |   |   |<br>\n",
    "  +---+---+---+---+---+<br>\n",
    "  |   |   | 1 |   |   |<br>\n",
    "  +---+---+---+---+---+<br>\n",
    "k | 0 | 0 | 0 | 0 | 0 |<br>\n",
    "  +---+---+---+---+---+<br>\n",
    "  |   |   | 1 |   |   |<br>\n",
    "  +---+---+---+---+---+<br>\n",
    "  |   |   | 1 |   |   |<br>\n",
    "  +---+---+---+---+---+<br>"
   ]
  },
  {
   "cell_type": "markdown",
   "metadata": {},
   "source": [
    "//TODO\n",
    "- problems (indset, clique, old3sat, ...)\n",
    "- certificates"
   ]
  },
  {
   "cell_type": "code",
   "execution_count": null,
   "metadata": {},
   "outputs": [],
   "source": []
  }
 ],
 "metadata": {
  "kernelspec": {
   "display_name": "Python 3",
   "language": "python",
   "name": "python3"
  },
  "language_info": {
   "codemirror_mode": {
    "name": "ipython",
    "version": 3
   },
   "file_extension": ".py",
   "mimetype": "text/x-python",
   "name": "python",
   "nbconvert_exporter": "python",
   "pygments_lexer": "ipython3",
   "version": "3.6.10"
  }
 },
 "nbformat": 4,
 "nbformat_minor": 4
}
