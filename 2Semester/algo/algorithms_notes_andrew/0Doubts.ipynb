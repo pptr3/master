{
 "cells": [
  {
   "cell_type": "markdown",
   "metadata": {},
   "source": [
    "# Doubts:\n",
    "\n",
    "- an example of transition functions with more tapes.\n",
    "\n",
    "- during the exercitation the professor wrote \"O(1) + O(nlog(n)) + O(log(n) $\\in$ O(nlog(n)) , a$\\in$ D\" what does it mean?\n",
    "\n",
    "- FOR THE CLASS P PROBLEMS IN THE WORST CASE THE INPUT ITSELF CAN BE CONSIDERED AS THE CERTIFICATE?"
   ]
  },
  {
   "cell_type": "markdown",
   "metadata": {},
   "source": [
    "- to do the limit is considered a proof for the big oh relations?"
   ]
  },
  {
   "cell_type": "markdown",
   "metadata": {},
   "source": [
    "MHalt proof: why can't we simply say that if Mhalt =1 then Muc outputs 0?"
   ]
  },
  {
   "cell_type": "markdown",
   "metadata": {},
   "source": [
    "- when asked to build a TM to solve a problem in linear time, are we obliged to use only one tape?"
   ]
  },
  {
   "cell_type": "markdown",
   "metadata": {},
   "source": [
    "- encoding exercises\n"
   ]
  },
  {
   "cell_type": "markdown",
   "metadata": {},
   "source": [
    "- is it necessary that the tape head returns at the beginning of the string to be in halt? no."
   ]
  },
  {
   "cell_type": "markdown",
   "metadata": {},
   "source": [
    "- more about TMSAT."
   ]
  },
  {
   "cell_type": "code",
   "execution_count": null,
   "metadata": {},
   "outputs": [],
   "source": []
  }
 ],
 "metadata": {
  "kernelspec": {
   "display_name": "Python 3",
   "language": "python",
   "name": "python3"
  },
  "language_info": {
   "codemirror_mode": {
    "name": "ipython",
    "version": 3
   },
   "file_extension": ".py",
   "mimetype": "text/x-python",
   "name": "python",
   "nbconvert_exporter": "python",
   "pygments_lexer": "ipython3",
   "version": "3.6.10"
  }
 },
 "nbformat": 4,
 "nbformat_minor": 4
}
