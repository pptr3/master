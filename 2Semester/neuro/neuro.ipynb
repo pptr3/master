{
 "cells": [
  {
   "cell_type": "markdown",
   "metadata": {},
   "source": [
    "# The plastic human brain\n",
    "\n",
    "A fundamental thing we would discuss is to start to understand what are the structure of the brain that allow for the plastic modulation to take place and how this could become functionally relevant. <br>\n",
    "So, at we know that at the beginning we come up with a lot of neurons and during some part of our life there is a pruning of neuron activity, that means that many connections get lost and just some become stronger.\n",
    "\n",
    "\n",
    "## Hebbian plasticity\n",
    "\n",
    "The main thing we can do is to understand exactly how plasticity take place in the brain, so what is the basic principle that allows for neurons to start communicating to each other and how these communicaions can led to a strengthening of the connections or to a weakening of the connections.\n",
    "\n",
    "What we see general is that we have some neurons that fires due to an activation by a stimulus and in turn these activate a specific network of neurons. <br>This network of neurons have some peculiarities / capacities. Continuing to do the same thing over and over again, these neurons start to learn and become better and better at doing a specific task (here he did an example of learning piano -- the general idea is the same as training weights and biases of a Neural Network).<br>\n",
    "So enhancing the connections between some specific neurons, allows to do something easier / smoother / more automatic (like learning piano: at the begining could be hard, but by practicing it, then your finger hits the piano keys automatically without looking at them).<br>\n",
    "This is known as **Hebbian plasticity**.<br>\n",
    "\n",
    "From the Artificial Intelligence point of view this is extremely important because we have to allow the system to be able to change over time. We do not want to have a rigid system which is not capable to change depending on the external environment.<br> So it has to adjust, to learn.\n",
    "\n",
    "Note that this does not mean recreating the brain system, but to understand it as much as possible.<br>\n",
    "\n",
    "\n",
    "## Background\n",
    "\n",
    "So, the first hint that we have is from literature of animal and human neuroscience and that says that, in general,  in order to a system to become aware of a visual information it needs some feedback projections to be in place.<br> Feedback projections means that we have higher of the area that will filter the incoming sensorial information according to possible hypothesis which maximize the chances to read properly the incoming information.<br>\n",
    "Actually, what we are interested in, is to understand which are the connections between the different areas (like visual area V1 and extrastriate areas) and what is the state of this connectivity. <br>However how the state of the connectivity has still to be determined.\n",
    "\n",
    "\n",
    "- The model we are referring to is the Visual Motion perception. We can have several types:\n",
    "    - **Low level moving percepts**: here we have that certain dots (neurons) go actually leftwards and other that moves quite random (see the tak *Trial sequence below*).\n",
    "    - **Biological dot-pattern motion**: here is a most complex movement perception. Looking at these points, we can easily recognize that these dots represent a person that is doing a certain movement. \n",
    "    - **High level human movements**: here we have an example of a specific complex hand movement."
   ]
  },
  {
   "cell_type": "markdown",
   "metadata": {},
   "source": [
    "<img src=\"vm.png\">"
   ]
  },
  {
   "cell_type": "markdown",
   "metadata": {},
   "source": [
    "When we start looking at what is happening in the brain when we look at these pictures, what we see is that, depending on the complexity of the motion, we have a complex pattern of brain activation. <br>This indeed should not be particularly difficult to understand. <br>In fact, the more the information is complex, the more complex will be the pattern of classification of our brain. <br>Even more, *High level human movements* will require even farther activation because it is much complex / non natural movement and usually peculiar movement (like in the picture).\n",
    "\n",
    "\n",
    "\n",
    "\n",
    "## Key concepts\n",
    "\n",
    "A key concept here is the connectivity. We know that localization of function is one of the problem: we know that movement is processed by a particular area and we also know that that particular area is not isolated because these information must have came from early visual areas.<br>\n",
    "So connectivity is important because, for example, without the connectivity betweeen V5 and V1 we would not be aware of the movement stimulus, as plenty of studies demonstrated.<br>\n",
    "\n",
    "But of course another imprtant key is how changing the weight of a connection modulates the perception of\n",
    "motion.\n",
    "\n",
    "Of course it might be a point where we stop to clearly see something (like recognizing a movement) maybe because there is a lot of noise or there is not much of moving, so up to which point is the brain capable to do this work?<br> Up to which point the brain or the connectivity is good enough to filter out the noise and still work properly? This is what we are interested in.\n",
    "\n",
    "\n",
    "## Aims\n",
    "\n",
    "- To casually test how the feedback connectivity from motion visual area (V5) to V1 affects sensitivity to motion.\n",
    "- To do this by directly modulating connectivity using a novel cortico-cortical paired associative stimulation paradigm (ccPAS)\n",
    "\n",
    "If we want to modulate a connection in a way that is producing an Hebbian-like plasticity, what we want to do is to emulate it by repeatedly activating network by pre-synaptic connective (V5) and post-synaptic connective (V1). <br>So we simulate V5 and V1 repeatedly and this is called **novel cortico-cortical paired associative stimulation paradigm (ccPAS)**.<br> The term \"cortico-cortical\" is due to the fact that we are trying to connect two brain areas\n",
    "and associate their stimulation using a certain timing to emulate a Hebbian plasticity mechanism and leading to an enhancement of this connectivity.\n",
    "\n",
    "\n",
    "## Human Visual System\n",
    "\n",
    "As we have this evidence that is possible to create a modulation of the connectivity by creating a consequent activation of a post-synaptic neuron, what we want to do in this experiment is exactly to emulate this by emulating a neuron population (V5 in our model) and a neuron population 2 (V1 in our model) and exactly do this, namely activate fist one and then the other one repeatedly and what we should see is exactly and enchancement / strengthen of the connectivity. <br>What are we interested in, is to see what is exactly the **timing** it takes for a signal to go from V5 to V1 (we can do this but we should know the physiology parameters).<br> How long does it take from a pre-synaptic activating to reach the post-synaptic target, for example. There are several studies that are showing that **20 ms** represents a good timing that maximize the chances that V5 is communicating effectively to V1 in this feedback projection.<br> We know that V5 is important for the motion detection area and V1 is important for the visual awareness and the back projection from V5 to V1 is relevant for the awareness of motion. <br>So we need to simulate this area using this timing.\n",
    "\n",
    "However here we are doing an important **assumption**: the assumption is that we are not stimulating just a pre-synaptic neuron and a post-synaptic neuron, we are stimulating a neuron population which is already made of a big number of neurons. <br>So we are not just talking about a single connection but rather about big local networks.\n",
    "\n",
    "**Can we strengthen V5-V1 connection to improve visual motion sensitivity?**\n",
    "\n",
    "\n",
    "\n",
    "## Experimental condition\n",
    "\n",
    "\n",
    "So we want to look at how V5 and V1 could be modulated by using the protocol ccPAS. <br>The protocol was done such that the maximum output intensity of the stimulator was set to 70% and we did this 20ms pair (so V5-V1) every 10 seconds at the frequency of 0.01Hz. <br>Doing so, ensured that we have something that was repeated but at the same time to ensure that it is was quite interleaved over time in order to not create any interferences with the process itself.<br>\n",
    "We did this 90 times (so it lasted roughly 30 to 45 minutes), and we applyed this over V5 and V1.\n"
   ]
  },
  {
   "cell_type": "markdown",
   "metadata": {},
   "source": [
    "<img src=\"hvs.png\" height=\"60%\" width=\"60%\">"
   ]
  },
  {
   "cell_type": "markdown",
   "metadata": {},
   "source": [
    "Another way in which we can think of controlling our experimental condition will be that, in order for Hebbian plasticity to take place, we need to have a temporal sequentiality between a pre-synaptic activation and a post-synaptic activation.<br> If we change the timing between these connections, we may lose the Hebbian plasticity. <br>So if we stimulate V5 and V1 exactly at the same time, then V5 will have no chance to impact the V1 activity.\n",
    "\n",
    "\n",
    "## Task – Trial sequence\n",
    "\n",
    "To do some experiments, a task has been done. <br>The task was for the subject to look at two-alternative forced choice computerised task and ask to the participant \"towards which direction dots are coherently moving?<br>\n",
    "Right or Left? Answer accurately, if not sure, guess!\".<br>\n",
    "The dots have a *motion coherence* which is a parameter which ranges from 0% to 80%. If it is set to 0%, then the dots moves completely random in all the directions. <br>On the other hand, if it is set to 80%, then the dots tend to move to a specific direction  (left or right). This was the model.<br>\n",
    "Working with this paramenter (using different values for it), it has been possible to easily test for each participant the motion coherence **threshold**, namely the level at which they could correctly perceive that the dots were moving in a coherent direction with an accuracy of 75%.<br>\n",
    "Now, what we want to do is see whether we can this capacity if the subject (the threshold) and make it better!<br>\n",
    "\n",
    "The experimental procedure applied was the following.<br> The motion perception sensitivity, probed by direction discrimination task, was performed in sessions of measurements immediately before (baseline) and immediately (T0), 30 min (T30), 60 min (T60) and 90 min (T90) after the end of ccPAS period. <br>Each session of measurements lasted for approximately 13 min whereas the ccPAS period lasted for approximately 15 min.\n",
    "\n",
    "The results can be observe in the chart below. <br>Note that we do not have a baseline because what the char shows is the corrections for the baseline value, that means that everything is  subtracted from the baseline to see the net change from the baseline. <br>So anything which is zero represents the baseline value, anything that goes below means is getting better (you need less coherence) and contrary if the values goes up it is getting worse (you need more coherence) to be able to tell 75% of the motion coherence."
   ]
  },
  {
   "cell_type": "markdown",
   "metadata": {},
   "source": [
    "<img src=\"res.png\" height=\"50%\" width=\"50%\">"
   ]
  },
  {
   "cell_type": "markdown",
   "metadata": {},
   "source": [
    "- **at time zero (T0)**: regarding the *experimental condition* (depicted in blu in the chart), at a time zero, has a tendency to go towards negative, so it needs less coherece in order to be correct 75% of the time. However, it is not significantly not different from all the other conditions.\n",
    "\n",
    "- **after 30 minutes (T30)**: after around 30 minutes we start seeing the effects. At T30, the experimental condition of the subject got much much better compared to all the other control conditions.\n",
    "\n",
    "- **after 60 minutes (T60)**: roughly the same effects can be observed after 60 minutes after the stimulation. It can be seen that the control condition 1 (Ctrl-1), that was the one related to the feed forward, is starting to grow providing an attidional noise and a tendency to lowering the performance.\n",
    "\n",
    "- **after 90 minutes (T90)**: after around 90 minutes, we still can see some trails of what we are looking at but the other control conditions are starting to get worse.\n",
    "\n",
    "\n",
    "What the experiment shows then is that there is a significant improvement of motion perception 30 and 60 minutes after ccPAS, and it is notable **only in the experimental condition**.\n",
    "\n",
    "\n",
    "\n",
    "## Take home message\n",
    "\n",
    "- ccPAS over two functionally connected visual regions improves visual processing depending on the parameters of stimulation (e.g. directionality, timing, etc.).\n",
    "\n",
    "- Empowering reentrant connections from V5 to V1, implicated in the conscious perception of visual motion, boosts visual motion sensitivity.\n",
    "\n",
    "**Results provide first causal evidence that selective empowering of re-entrant projections from V5 to V1 can enhance visual processing of motion**.\n",
    "\n",
    "\n",
    "\n",
    "## ccPAS: functional state-dependency – Study 2\n",
    "\n",
    "What we are doing here, in addition to what we have done previously, is that previously when we applied the ccPAS the subject was not doing anything. <br>Now, what we are doing in addition to apply the ccPAS, we are presenting passively to the participant a coded motion in a particular direction.<br>\n",
    "So imagine that our brain is not doing anything, then we present feasibly a specific movement in our V5 area and what is happening is that those neurons that are coded for that particular movement will be more excited. <br>So if we apply TMS at a intensity stimulation which is not very high and is capable of activating only those neurons that have been pre-activated, then we will end up with is the capacity that we can selectively activate those neurons that are capable of decoding the movement in the right direction. <br>So, doing so, we get more specific in our capacity to select just those neurons that are coding for a particular characteristic. In this case the motion. <br>Note that here we are talking about the motion but this can be extended to severl other aspects like face recognition for example.\n",
    "\n",
    "What we then looked at particularly, was whether the participants could get better at particular unit of the network.<br> So assume we are interested in a system that is capable of predicting the sensing motion information in one direction rather than the other. <br>So it will be leftward or rightward. In this case we have nodes of the network that are represented in different way (for example with different shapes), each one representing a particular direction rather than the another.<br> So, how then this will inform the activity of V1 which is leading to the target object (which could be, in this case, moving to the left or to the right).<br>\n",
    "So what we are trying to do is picking up those neurons that are responding to a particulat characteristic and see whether we can strengthen just the part of the network that is coding this particular characteristic **but** not the others. <br>This can be done if we look at the Hebbian plasticity and this process is called **State dependent cc-PAS**. <br>So we repeat the same experiment as previously with the only difference that we expose the participant to different particular movement.\n",
    "\n",
    "\n",
    "## Results – ccPAS modulations\n",
    "\n",
    "The results of this experiment can be seen in the chart below. <br>What we see is that we have the ccPAS modulation that, as in the previous experiment, we have the baseline that is being corrected. <br>So anything that is going below the line means it is getting better (so we would need less coherent to be able to detect correctly the coherence motion) whilst anything that is going below the line is getting worse (so we would need more coherent).<br>\n",
    "From the chart we can see that we are doing really well con V5-V1 with 80% TMS instensity.<br>\n",
    "What is interesting is that in the V5-V1 with 100% TMS instensity we do not observe almost any change.<br>"
   ]
  },
  {
   "cell_type": "markdown",
   "metadata": {},
   "source": [
    "<img src=\"mod.png\" height=\"50%\" width=\"50%\">"
   ]
  },
  {
   "cell_type": "markdown",
   "metadata": {},
   "source": [
    "## Conclusions\n",
    "\n",
    "- ccPAS can temporarily induce Hebbian-like plasticity in the visual system\n",
    "- ccPAS can target and enhance the efficiency of specific pathways functionally selected\n",
    "- Re-entrant connectivity from higher order to early visual areas is functionally relevant to motion perception\n",
    "- Re-entrant V5-V1 pathways carry function-specific information for the processing of motion direction\n",
    "- Functional connections are highly plastic in the brain and follow Hebbian rules\n",
    "- Feedback connectivity allows for efficient processing of information\n",
    "- Cognitive Neuroscience developments have allowed for causal testing of such principles in the human brain\n",
    "- Informing models of artificial intelligence developments: Machine Learning, deep learning, artificial neural networks, etc.\n"
   ]
  },
  {
   "cell_type": "markdown",
   "metadata": {},
   "source": [
    "# Consciousness and Artificial Intelligence\n",
    "\n",
    "\n",
    "## What is consciousness?\n",
    "\n",
    "Nowadays the definition of consciousness is still a controversial debate.<br>\n",
    "When we talk about consciousness, even though we could define it several ways, we are actually interested in the **subjective personal experience**.<br> This is a very hard problem though, even when you are leading to an understanding of the mechanisms of how to build up our experience of something, like visual experience, sensations, actions etc., that could be though as something that might not necessarily need to conscious perception.<br>\n",
    "Indeed, one of the open question is *what is the difference between human being and an artifical intelligence system?*<br>\n",
    "We could rely on the level of inner experience, but how would this define the two elements? What is the differences between these two experiences?<br>\n",
    "For instance, take as example the experience of solving a problem. <br>An artificial intelligent system can do it as well, but we are not expected the Artificial Intelligent system to have its own feeling about what it has done and coming with a felling related on what it has done.<br>\n",
    "So we need to understand in the first place what consciousness is and moreover to understand why we can build up systems that are capable of doing very complex things that in many ways are similar to what humans do and sometimes much better, but the artificial intelligent system seems to have not any reasoning and consciousness on what it does.<br>\n",
    "\n",
    "The **functional role** of consciousness is a biological evolutionary function promoting complex flexible and adaptive behaviour. <br>Also, consciousness contributes to responding more felxibly when automatic actions are unsuitable.<br>\n",
    "\n",
    "So, where is the boundary between something that is consciousness and something that is not? Is still a mystery.<br>\n",
    "\n",
    "*How does consciousness arise?* <br>\n",
    "So what is the difference between having this inner feeling and how we can think of an artificial intelligent system being conscious. <br>\n",
    "\n",
    "\n",
    "\n",
    "## The Global Workspace Theory (GWT)\n",
    "\n",
    "The global workspace theory is one of the first theory for consciousness.<br> It has been defined by Bernard Baars in 1988. He defined consciousness as *'Consciousness is a supremely functional biological\n",
    "adaptation'.*<br>\n",
    "It is important to look at this definition because many of the intelligent systems that has been built so far was based on this definition of consciousness. <br>Of course is not the only theory of consciousness but is the one that has created a lot of legacy between neuroscience and the development of artificial intelligence.\n",
    "\n",
    "A further definition that always Bernard Baars gives is the following: <br>\n",
    "*'Consciousness is a kind of a gateway: a facility for accessing, disseminating, and exchanging\n",
    "information, and for exercising global coordination and control'* <br>\n",
    "\n",
    "So it is a gateway, but a gateway to what?<br> A gateway to the amount of information we are receiving. <br>So it is a sort of point of view, is a position from which we can extract the amount of information we are receiving and select just the information we need, like a filter. So, as Bernard stated, consciousness is essential in integrating perception, thought and action, in adapting to novel circumstances, and in providing information to a self-system.<br>\n",
    "\n",
    "Baars rejects the idea that consciousness does not play a causal role in the nervous system.<br> So you can start thinking whether do we really need our intelligent system to be conscious, because it can still do an amount of work that is much better to some extent to what humans can do. <br>So why do we need consciousness? Still a matter of debate.\n",
    "\n",
    "For example, if you make a speech error unconsciously you will not be able to act upon to correct.<br> However as soon as you become aware of the problem, you can fix it because consciousness creates global access to further unconscious resources.\n",
    "\n",
    "That means that the translator that is creating a mistake is translating something, is not aware of it otherwise it will act upon it.<br> So the point is to what extent we can create routine that might become \"aware\" when for example it does mistakes and correct itself? <br>Is this level something the we can define as a level of consciousness which allow us to be more flexible in understanding something that was not correct and act upon it to correct it? This is what Baars refers to. <br>If we have a rigid system that is not able to change its online functions, then it will make the same errors over and over again.\n",
    "\n",
    "\n",
    "GWT claims that any piece of information is conscious if it is broadcast widely to many areas of the unconscious brain.<br>\n",
    "How does consciousness arise according to GWT? <br>Conscious perceptions and actions are those that achieve access to the global workspace and are broadcast to a large audience.<br>\n",
    "The global workspace is kind of a restrictive space where all of this unconscious information will achieve a level that might be considered as sort of the attentional hotspot where we start to have finite resource that we can analyze to understand what is going on.<br> Does an artificial intelligent system have all of this? <br>If not, how to get there? These are still open questions.\n",
    "\n",
    "Baars refers to the ‘Theatre hypothesis’, where conscious events happen in the ‘theatre of consciousness’.<br>\n",
    "This means that we are talking about a space within which there are some actors that are acting to allow our inner feeling of being conscious where all the elements come there to provide us to a sense of coherence about what we are doing and why, and pick up all these elements to provide smooth movement in time. <br>\n",
    "To cite an example: the dramatic contrast between items accessible to consciousness at any time and the vast number of unconscious neural processes going on.<br>\n",
    "\n",
    "\n",
    "*Consciousness act as a ‘bright spot on the stage'.* <br>\n",
    "What does this mean? Take into account a theatre for example, there is a lot of space on the stage but just a single \"thing\" can be on focus. <br>\n",
    "\n",
    "*The bright spot is surrounded by a fringe of events that are only vaguely conscious.* <br>\n",
    "That means that, even though we are focusing on just one thing, actually there are of course plenty of other events that might come into our bright spot or at the edge of it and as long as we are capable of keeping track of what is going on then this wil not be a big problem because we are still be able to follow our goal.<br> However, we should keep in mind that there are a lot of unconscious events (or unconscious audience supposing we are doing the theatre example) that is sitting in the dark and receive information broadcast from the bright spot."
   ]
  },
  {
   "cell_type": "markdown",
   "metadata": {},
   "source": [
    "<img src=\"bright.png\" height=\"8%\" width=\"8%\">"
   ]
  },
  {
   "cell_type": "markdown",
   "metadata": {},
   "source": [
    "Behind the scenes there are numerous unconscious contextual systems that shape the events happening in the bright spot. <br>So what we have and what we feel, is not everything of course, it is just the result of a lot of other things what are going on.<br>\n",
    "\n",
    "So, what makes this theory much more than a theatre metaphor? <br>\n",
    "It is indeed a nice metaphor, is telling us that everything that is on the bright spot is what consciousness is and all the rest is all the unconsciousness proceess that are going on in our brain. <br>\n",
    "The theatre metaphor is heavily grounded in psychology and neuroscience knowledge.<br> It can be summarized as follows:\n",
    "\n",
    "Backstage: *Neural processes* <br>\n",
    "Bright spot: *Attention* <br>\n",
    "The rest of the stage: *Working Memory* (Baddeley, 2000).<br>\n",
    "\n",
    "**The interactions between these three elements are based on the GWT architecture**.\n",
    "\n",
    "The brain is structured so that a few items at a time are dealt within the global workspace (similar to the 7 + or – 2 items concept of the WM capacity).\n",
    "The theatre has a numerous input from the senses and the overall context and connection to unconscious resources such as language, autobiographical memories and learned skills.\n",
    "All this provides a real ‘working theatre’ with consciousness acting as a ‘gateway’ providing global access to any part of the nervous system.\n",
    "Consciousness has very definite effects and functions:\n",
    "- Provides access to mental lexicon, autobiographical memories, and the ‘self’ system.\n",
    "- Recruits processors for ongoing tasks, facilitate executive decisions, enables voluntary\n",
    "control over automatic actions routine.\n",
    "Consciousness is not an epiphenomenon, nor it is mysterious.\n",
    "Consciousness is a working part of the cognitive system.\n",
    "\n",
    "\n",
    "A collection of specialized unconscious processors compete for access to the limited capacity Global Workspace.\n",
    "The Global Workspace is probably dependent on long-range circuits, involving the prefrontal cortex, anterior cingular and connecting areas. Information can be widely broadcast to other brain areas and this brain-scale broadcasting creates a global availability that results in the possibility of verbal or non-verbal reports and is experienced as a conscious state (Dehaene, 2009).\n",
    "So thinking about this and the complexity of the system we can represent the theater of consciousness as the following picture:"
   ]
  },
  {
   "cell_type": "markdown",
   "metadata": {},
   "source": [
    "<img src=\"the.png\" height=\"40%\" width=\"40%\">"
   ]
  },
  {
   "cell_type": "markdown",
   "metadata": {},
   "source": [
    "where:\n",
    "- only the bright spot on stage is conscious (consciousness is very limited in capacity)\n",
    "- sensory inputs compete for access to the conscious bright spot\n",
    "- the \"stage\" corresponds to Working Memory\n",
    "- all other features as unconscious, including long-term memory, the automatic processes of language, and the events going on backstage\n",
    "- the theater metaphor has been turned into several testable models.\n"
   ]
  },
  {
   "cell_type": "markdown",
   "metadata": {},
   "source": [
    "### Artificial Intelligence today\n",
    "\n",
    "Here he showed this video:\n",
    "- https://www.youtube.com/watch%3Fv=Ml9v3wHLuWI&t=3s\n",
    "\n",
    "\n",
    "### Artificial Intelligence tomorrow?\n",
    "Here he showed this video:\n",
    "- https://www.youtube.com/watch%3Fv=gsRb5PJcBP4&t=13s\n",
    "\n",
    "\n",
    "### How AI and neuroscience drive each other forwards\n",
    "Here he suggest to read this if we are interested:\n",
    "- https://www.nature.com/articles/d41586-019-02212-4"
   ]
  }
 ],
 "metadata": {
  "kernelspec": {
   "display_name": "Python 3",
   "language": "python",
   "name": "python3"
  },
  "language_info": {
   "codemirror_mode": {
    "name": "ipython",
    "version": 3
   },
   "file_extension": ".py",
   "mimetype": "text/x-python",
   "name": "python",
   "nbconvert_exporter": "python",
   "pygments_lexer": "ipython3",
   "version": "3.6.10"
  }
 },
 "nbformat": 4,
 "nbformat_minor": 4
}
