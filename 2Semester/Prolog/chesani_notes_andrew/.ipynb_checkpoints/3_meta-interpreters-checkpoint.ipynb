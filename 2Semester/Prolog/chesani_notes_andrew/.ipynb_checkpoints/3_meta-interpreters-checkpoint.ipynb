{
 "cells": [
  {
   "cell_type": "markdown",
   "metadata": {},
   "source": [
    "# Meta-interpreters\n",
    "Meta-interpreters or meta-programs are programs which take as input a program and outputs another program!!! \n",
    "Remember this: \n",
    "\n",
    "- program in Prolog is a synonymous of predicate.\n",
    "\n",
    "- in Prolog terms(=data) and predicates have the same syntax, that's why we can treat programs as data.\n",
    "\n",
    "In general what is a typical meta-interpreter? A compiler.\n",
    "\n",
    "\n"
   ]
  }
 ],
 "metadata": {
  "kernelspec": {
   "display_name": "Python 3",
   "language": "python",
   "name": "python3"
  },
  "language_info": {
   "codemirror_mode": {
    "name": "ipython",
    "version": 3
   },
   "file_extension": ".py",
   "mimetype": "text/x-python",
   "name": "python",
   "nbconvert_exporter": "python",
   "pygments_lexer": "ipython3",
   "version": "3.6.10"
  }
 },
 "nbformat": 4,
 "nbformat_minor": 4
}
