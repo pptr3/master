{
 "cells": [
  {
   "cell_type": "markdown",
   "metadata": {},
   "source": [
    "references: Essentials of Constraint Programming (Thorn Friihwirth Slim Abdennadher )"
   ]
  },
  {
   "cell_type": "markdown",
   "metadata": {},
   "source": [
    "To make it clear: The first and most popular logic programming (LP) language is Prolog. SWI-PROLOG contains also constrains so its actually a CLP."
   ]
  },
  {
   "cell_type": "markdown",
   "metadata": {},
   "source": [
    "# LOGIC PROGRAMMING\n",
    "Logic programming is a programming paradigm which is largely based on formal logic. Any program written in a logic programming language is a set of sentences in logical form, expressing facts and rules about some problem domain. In all of these languages, rules are written in the form of horn clauses:\n",
    "\n",
    "H :- B1, …, Bn.\n",
    "\n",
    "\n",
    "A logic program is a set of axioms, or rules, deﬁning relationships between objects. A computation of a logic program is a deduction of consequences of the program. Before going on read this notebook \"transition sys\"."
   ]
  },
  {
   "cell_type": "markdown",
   "metadata": {},
   "source": [
    "# LP SYNTAX\n",
    "\n",
    "syntax about the DECLARATIVE part (the program/KB):\n",
    "- A goal is either T  or _ |_ or an atom or a conjunction of goals. \n",
    "- T is also called empty goal.\n",
    "- A (Horn) clause is of the form H <- B, where H is an atom and B is the body. \n",
    "- H. (= clauses with no Body) are called facts, all others are called rules.\n",
    "- A (logic) program is a finite set of Horn clauses. \n",
    "- A rule is a definition of a predicate if it occurs in the head of a clause.\n",
    "\n",
    "syntax about the OPERATIONAL part (calculus):\n",
    "- A state is a pair of the form <G,sigma>, where G is a goal and sigma is a substitution. \n",
    "- What we are really interested in is the substitution that occurs in a successful final state. (If we use them for planning we're interested also by the order of the step derivations).\n",
    "- successful final state: <T,sigma>  \n",
    "- failure final state: <_ | _, no_subst.>\n",
    "- Derivation succesful: its final state is succesful.\n",
    "- Derivation failed : its final state is a failure. or there are infinite possible substitutions.\n",
    "- Also if a derivation fails, it can be done backtrack and searched another one.\n",
    "- A Goal G is succesful if it has at least one successful derivation from <G,no_subst.>.\n",
    "- A goal G is finitely failed if it has only failing derivations from <G,no_subst.>."
   ]
  },
  {
   "cell_type": "markdown",
   "metadata": {},
   "source": [
    "# LP declarative semantic = how to read the program/the KB/the logic\n",
    "\n",
    "<img src=\"dec_int1.png\" width=50% heiht=50%>\n",
    "<img src=\"dec_int2.png\" width=50% heiht=50%>\n",
    "\n",
    "More formally:\n",
    "\n",
    "A Horn clause H <- B is correspondent to the well formed formula B -> H and its semantic of FOL. The logical reading of a program P/KB is then the universal closure of the conjunction of the clauses of P, denoted by \"P→\".\n",
    "(Universal closure means that you consider the universal quantifier before the formula. Note that this is exactly the reverse process that you do when you have a formula and you want to put it in the KB). example:\n",
    "\n",
    "P (= KB) =  p(X), n(Z,Y)   \n",
    "\n",
    "P→ = ∀ X ∀ Z ∀ Y (p(X)^n(Z,Y))\n",
    "\n",
    "\n",
    "But from this we can only derive positivity: if a goal is a failure I can't say if it's negation is derivable from the KB.\n",
    "So just know that to derive also something like that, and to have property like soundness, the program P must be \"COMPLETED\":\n",
    "\n",
    "P completed = \"CLARK COMPLETION OF P\" = P↔ U CET.  Where:\n",
    "- P↔ is a new set formulas obtained from P.\n",
    "- CET is a set of formulas which guarantee in the program properties like reflexivity, symmetry, transitivity.. \n",
    "- U means union\n",
    "\n",
    "# SLD it's actually SLDNF in swi-prolog:\n",
    "MORE PRACTICALLY: HOW DOES SWI SOLVE THE PROBLEM? THE FIRST IDEA WOULD BE TO USE THE CLOSED WORLD ASSUMPTION: IF YOU CAN'T INFER c FROM THE KB, THEN not(c) IS TRUE. BUT WHY IT WOULD BE A PROBLEM? BECAUSE FOL IS UNDECIDABLE: YOU KNOW IF SOMETHING IS DERIVABLE, MUT YOU CAN'T SAY IF SOMETHING IS NOT DERIVABLE (THERE ARE INFINITE INTERPRETATIONS, AND THERE ARE ALSO LOOPS). SO WHAT COULD WE USE? WE COULD USE NAF (Negation As Failure) which says that you can say that not(c) holds if c is not derivable from the KB IN A FINITE TIME! THE COMBINATION SLD+NAF IS CALLED SLDNF, WHICH AT EACH STEP DOES THIS:\n",
    "1) Do not select any negative literal L, if it is not \"ground\"!!!!!!!!!!!\n",
    "2) If the selected literal L is positive, then apply a normal SLD step.\n",
    "3) If L is  ~A (with A \"ground\") and A fails in finite time (it has a finite failure SLD tree), then L succeeds.\n",
    "BUT SLDNF IN PROLOG IS IMPLEMENTED NOT RESPECTING THE FIRST RULE! INDEED TO IMPLEMENT THE FIRST RULE IT WOULD MEAN TO DO A CLEVER/SAFE SELECTION OF THE LITERAL TO BE CONSIDERED AT EACH STEP. INSTEAD IT HAS BEEN PREFERED TO CHOOSE THE LEFT-MOST LITERAL ALWAYS, REGARDLESS IT IS GROUND OR NOT, LEAVING INSTEAD TO WHO WRITES THE QUERY OR THE KB THE TASK TO THINK ABOUT IT (SO FOR INSTANCE IT'S ALWAYS A GOOD RULE TO WRITE THE NEGATED LITERALS ON THE RIGHT-MOST PART OF THE CLAUSE/QUERY, SO THAT THE LIKELIHOOD THAT DURING THE PROCESSING OF THE OTHER LITERALS THEY GET INSTANTIATED). WHAT IF IT'S CHOSEN A NEGATIVE LITERAL WHICH ISN'T GROUND? WELL THE CORRECTNESS OF PROLOG ISN'T GUARANTEE IN THAT CASE, SO YOU CAN GET ERRORS LIKE THIS:\n",
    "<img src=\"error_negation.png\" width=30% height=30%>\n",
    "\n",
    "This is instead an example in which it has been CORRECTLY proved a negated literal:\n",
    "<img src=\"negation_success.png\" width=30% height=30%>\n",
    "\n",
    "\n",
    "to know more: http://www.inf.ed.ac.uk/teaching/courses/lp/2012/slides/lpTheory8.pdf\n",
    "\n",
    "inf.ed.ac.uk/teaching/courses/lp/2012/slides/lpTheory8.pdf\n",
    "\n"
   ]
  },
  {
   "cell_type": "markdown",
   "metadata": {},
   "source": [
    "# LP procedural semantic \n",
    "Prolog can be seen as a functional language. \n",
    "A \"procedure\" is a set of clauses with the same predicate in the head.\n",
    "Arguments appearing in the head of the procedure can be considered as the formal parameters. This can be viewed as the call to procedure p. Arguments passed with the querie are the actual parameters. Unification then can be viewed as the mechanism for passing the parameters. The difference with the other languages is that the predicate contains both the input and the output parameters!!!"
   ]
  },
  {
   "cell_type": "markdown",
   "metadata": {},
   "source": [
    "# LP calculus semantic = operational semantic\n",
    "We don't describe the DECLARATIVE SEMANTIC here, which is dependent on the language used. To see that directly see the syntax and semantic of SWI-Prolog: http://lpn.swi-prolog.org/lpnpage.php?pageid=online.\n",
    "What we prefer to describe formally here is the LP CALCULUS (so how it's derived the solution(the substitution) given the goal and the KB). Before reading this take a look to the notebook \"transition sys\". \n",
    "\n",
    "LP calculus transiton relations are described by only 2 transition rules:\n",
    "\n",
    "- 1) UNFOLD : \n",
    "  Considering the current state <A^G,sigma1>:\n",
    "\n",
    "  If H<-B is a fresh variant of a clause of your program, and H can be unified with A thanks to the mgu sigma2\n",
    "\n",
    "  then <A^G,sigma1> -> <B^G,sigma1sigma2>.\n",
    "\n",
    "Explanation:\n",
    "This is exactly what does the prolog interpreter: considering a goal G and a rule H<-B then if there's an mgu sigma which does the unification (G,H)sigma, then you'r next state is (B)sigma. \n",
    "Consider the initial state <G',T> which means that you're starting by the goal G', and no substitutions to apply. You know that G' is always in CNF, so you can consider it as G' = AandG where A is an atomic goal. So you can say that the initial state is <A^G,T>. Suppose you have the rule H<-B in your KB. The unfold rule says that if you can unify (A,H)sigma then instead of the atom A you can satisfy B, so the new state is <B^G,sigma> because you must keep track of the substitutions done. To be more general if you are not considering the initial state, but for instance you're considering to apply unfold to a state which has already substitutions, like <B^G,sigma>, you must consider also those. You also have to consider that if you apply the substitution you risk to change all the variables of the program with the names involved in that substitution; to avoid that when you consider a clause rename the variables with new names. The obtained clause is said \"fresh variant\".\n",
    "\n",
    "- 2) FAILURE:\n",
    "\n",
    "  If Unfold is not appliable \n",
    "  \n",
    "  Then <A^G,sigma> -> failure\n",
    "  \n",
    "Note that the failure rule only says that the derivation fails, but the derivation is only a path of the tree search: backtracking can be done and are explored different derivations.\n"
   ]
  },
  {
   "cell_type": "markdown",
   "metadata": {},
   "source": [
    "# Unfold non determinism:\n",
    "The Unfold transition exhibits two kinds of non-determinism.\n",
    "\n",
    "- don't-care non-determinism:\n",
    "Any atomic goal can be chosen from G. It affects the length of the derivation (which can be infinite in the worst case).\n",
    "\n",
    "\n",
    "- don't-know non-determinism:\n",
    "Any formula of the program/KB can be chosen to which apply unfold rule. This affects the final answer/substitution.\n",
    "\n",
    "IN PROLOG IS USED A SO CALLED SLD RESOLUTION STRATEGY: Is taken the leftmost atomic goal of G, and the upper-most formula of the KB to apply unfold. When there's a derivation failure it backtracks. This approach can be described by making explicit the non-determinism with a rule called UnfoldSplit. Note that the problem is seen as if the root node is the initial state <G,no_subs> and the leaves are the final states, which can be failure or succesful. Each path is a derivation. Each brench is a sate transition. The search done in SLD RESOLUTION is like a depth first with a selection strategy of the atomic goal to be exploded and the formula of the program to use."
   ]
  },
  {
   "cell_type": "markdown",
   "metadata": {},
   "source": [
    "We give here the definitions of Soundness and completeness for a Programming language. It's wrong to think that this is a property of LP, it is a property of the particular LP LANGUAGE! We didn't discuss if SWI-Prolog is complete or sound.. (same thing for CLP).\n",
    "\n",
    "# SOUNDNESS AND COMPLETENESS for succesful derivations: \n",
    "- SOUNDNESS: If § is a computed answer of G, then P↔ ∪ CET |= ∀ (G)§\n",
    "\n",
    "- COMPLETENESS: IF P↔ unione CET |= ∀ (G)§ THEN there's answer sigma derived from P s.t. §= sigma beta.\n",
    "\n",
    "\n",
    "# SOUNDNESS AND COMPLETENESS for failing derivations:\n",
    "- Any fair derivation starting with <G, no_subs.> fails finitely iff and only if P↔ U CET |= not (esiste(G))\n",
    "\n",
    "\n",
    "(fair derivation = either fails or if each atom appearing in a derivation is selected after finitely many reductions. \n",
    "In other words, given a state, there is no atom that is ignored forever, i.e., never selected. )"
   ]
  },
  {
   "cell_type": "markdown",
   "metadata": {},
   "source": [
    "# Program examples: ALL THOSE SEEN IN PROLOG"
   ]
  },
  {
   "cell_type": "code",
   "execution_count": null,
   "metadata": {},
   "outputs": [],
   "source": []
  }
 ],
 "metadata": {
  "kernelspec": {
   "display_name": "Python 3",
   "language": "python",
   "name": "python3"
  },
  "language_info": {
   "codemirror_mode": {
    "name": "ipython",
    "version": 3
   },
   "file_extension": ".py",
   "mimetype": "text/x-python",
   "name": "python",
   "nbconvert_exporter": "python",
   "pygments_lexer": "ipython3",
   "version": "3.6.10"
  }
 },
 "nbformat": 4,
 "nbformat_minor": 4
}
