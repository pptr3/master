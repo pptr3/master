{
 "cells": [
  {
   "cell_type": "markdown",
   "metadata": {},
   "source": [
    "- fatt(N,ACCcount+1,ACCres*(ACCcount+1),Res). You can't put expressions to be evaluated as parameters!!!!!!!\n",
    "- variables are capital case!!\n",
    "-  Suppose you have done unification with the head of this fresh variant:  p(X1):- q(Z1),r(Z1). So the new goals now are q(Z1),r(Z1). Now suppose you have the fact q(a) in your KB. then you do the substitution Z1/a to unify q(Z1). Now the next goal is r(Z1) or r(a)? It's r(a)!! because q and r come from the same clause and have exactly the same name of variable, so the substitution applied to q(Z1) changes also r(Z1)!.\n",
    "- When you backtrack remember to backtrack also the substitutions!!!!\n",
    "- Once you unify with a a rule and its body (substituted) becames the new goal, you must alway start again from the top-most formula to try unifing it!) \n",
    "- If the goal is q(Z1),r(Z1). q(Z1) is taken first because the left-most. Suppose it unifies with q(a). NOW THIS IS REALLY IMPORTANT: THE QUERY r(Z1) has the same variable so it is substitued too!!! SO THE NEW GOAL NOW IS r(a).\n",
    "- how do you unify [a,bc]  with [H|T]? sigma = H/a,T/[c]!!!!! note that H/[a] is wrong!! and also T/c is wrong!!!"
   ]
  },
  {
   "cell_type": "code",
   "execution_count": null,
   "metadata": {},
   "outputs": [],
   "source": []
  }
 ],
 "metadata": {
  "kernelspec": {
   "display_name": "Python 3",
   "language": "python",
   "name": "python3"
  },
  "language_info": {
   "codemirror_mode": {
    "name": "ipython",
    "version": 3
   },
   "file_extension": ".py",
   "mimetype": "text/x-python",
   "name": "python",
   "nbconvert_exporter": "python",
   "pygments_lexer": "ipython3",
   "version": "3.7.6"
  }
 },
 "nbformat": 4,
 "nbformat_minor": 4
}
